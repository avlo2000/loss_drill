{
 "cells": [
  {
   "cell_type": "code",
   "execution_count": 13,
   "metadata": {},
   "outputs": [],
   "source": [
    "import sys\n",
    "\n",
    "sys.path.append('../src')"
   ]
  },
  {
   "cell_type": "code",
   "execution_count": 14,
   "metadata": {},
   "outputs": [
    {
     "name": "stdout",
     "output_type": "stream",
     "text": [
      "2.0.0+cu117\n"
     ]
    }
   ],
   "source": [
    "import torch\n",
    "print(torch.__version__)\n",
    "\n",
    "from torch.utils import data\n",
    "from torchvision import datasets\n",
    "from torchvision.transforms import transforms"
   ]
  },
  {
   "cell_type": "code",
   "execution_count": 15,
   "metadata": {},
   "outputs": [
    {
     "name": "stdout",
     "output_type": "stream",
     "text": [
      "Device: cuda\n"
     ]
    }
   ],
   "source": [
    "DEVICE = \"cuda\" if torch.cuda.is_available() else \"cpu\"\n",
    "print(f\"Device: {DEVICE}\")"
   ]
  },
  {
   "cell_type": "code",
   "execution_count": 16,
   "metadata": {},
   "outputs": [
    {
     "name": "stdout",
     "output_type": "stream",
     "text": [
      "Train/OverfitTrain/Test split: 48000/480/12000\n"
     ]
    }
   ],
   "source": [
    "data_transforms = transforms.Compose([transforms.ToTensor()])\n",
    "dataset = datasets.MNIST(\n",
    "    root='../data',\n",
    "    train=True,\n",
    "    download=True,\n",
    "    transform=data_transforms\n",
    ")\n",
    "train_data, test_data = data.random_split(dataset, [0.8, 0.2])\n",
    "overfit_train_data, _ = data.random_split(train_data, [0.01, 0.99])\n",
    "print(f\"Train/OverfitTrain/Test split: {len(train_data)}/{len(overfit_train_data)}/{len(test_data)}\")"
   ]
  },
  {
   "attachments": {},
   "cell_type": "markdown",
   "metadata": {},
   "source": [
    "**Defining hyperparameters**"
   ]
  },
  {
   "cell_type": "code",
   "execution_count": 17,
   "metadata": {},
   "outputs": [],
   "source": [
    "BATCH_SIZE = 32\n",
    "EPOCH_COUNT = 10"
   ]
  },
  {
   "cell_type": "code",
   "execution_count": 18,
   "metadata": {},
   "outputs": [],
   "source": [
    "train_dataloader = data.DataLoader(train_data, batch_size=BATCH_SIZE, shuffle=True, drop_last=True)\n",
    "overfit_train_dataloader = data.DataLoader(overfit_train_data, batch_size=BATCH_SIZE, shuffle=True, drop_last=True)\n",
    "test_dataloader = data.DataLoader(test_data, batch_size=BATCH_SIZE, shuffle=True, drop_last=True)"
   ]
  },
  {
   "cell_type": "code",
   "execution_count": 22,
   "metadata": {},
   "outputs": [
    {
     "name": "stderr",
     "output_type": "stream",
     "text": [
      "GPU available: True (cuda), used: True\n",
      "TPU available: False, using: 0 TPU cores\n",
      "IPU available: False, using: 0 IPUs\n",
      "HPU available: False, using: 0 HPUs\n",
      "LOCAL_RANK: 0 - CUDA_VISIBLE_DEVICES: [0]\n",
      "\n",
      "  | Name  | Type       | Params\n",
      "-------------------------------------\n",
      "0 | model | Sequential | 99.5 K\n",
      "-------------------------------------\n",
      "99.5 K    Trainable params\n",
      "0         Non-trainable params\n",
      "99.5 K    Total params\n",
      "0.398     Total estimated model params size (MB)\n"
     ]
    },
    {
     "name": "stdout",
     "output_type": "stream",
     "text": [
      "Epoch 0:  34%|███▍      | 514/1500 [00:03<00:06, 149.12it/s, v_num=2]"
     ]
    }
   ],
   "source": [
    "import lightning as pl\n",
    "from nn.models import create_model_bigger_cnn\n",
    "from nn.pl_classifier import LitClassifer\n",
    "\n",
    "\n",
    "in_shape: torch.Size = dataset[0][0].shape\n",
    "trained_model = create_model_bigger_cnn(in_shape)\n",
    "pl_model = LitClassifer(trained_model)\n",
    "\n",
    "trainer = pl.Trainer(max_epochs=3)\n",
    "trainer.fit(\n",
    "    pl_model, \n",
    "    train_dataloader, \n",
    "    test_dataloader,\n",
    "    )"
   ]
  }
 ],
 "metadata": {
  "kernelspec": {
   "display_name": "loss-drill-env",
   "language": "python",
   "name": "python3"
  },
  "language_info": {
   "codemirror_mode": {
    "name": "ipython",
    "version": 3
   },
   "file_extension": ".py",
   "mimetype": "text/x-python",
   "name": "python",
   "nbconvert_exporter": "python",
   "pygments_lexer": "ipython3",
   "version": "3.9.16"
  },
  "orig_nbformat": 4,
  "vscode": {
   "interpreter": {
    "hash": "ba6696151ee476b01a53e36d4d96b10db796cd8be47888c314e44a4a43b33bf1"
   }
  }
 },
 "nbformat": 4,
 "nbformat_minor": 2
}
